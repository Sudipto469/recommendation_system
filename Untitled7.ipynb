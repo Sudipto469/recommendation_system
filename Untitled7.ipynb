{
 "cells": [
  {
   "cell_type": "code",
   "execution_count": 3,
   "id": "23de55de",
   "metadata": {},
   "outputs": [],
   "source": [
    "import pandas as pd\n",
    "import numpy as np\n",
    "from datetime import datetime\n",
    "import regex as re\n",
    "from sklearn import preprocessing"
   ]
  },
  {
   "cell_type": "code",
   "execution_count": 4,
   "id": "10f65cc1",
   "metadata": {},
   "outputs": [],
   "source": [
    "label = preprocessing.LabelEncoder()"
   ]
  },
  {
   "cell_type": "code",
   "execution_count": 5,
   "id": "691bf5fe",
   "metadata": {},
   "outputs": [
    {
     "name": "stderr",
     "output_type": "stream",
     "text": [
      "C:\\anaconda3\\envs\\3_7\\lib\\site-packages\\pandas\\util\\_decorators.py:311: ParserWarning: Falling back to the 'python' engine because the 'c' engine does not support regex separators (separators > 1 char and different from '\\s+' are interpreted as regex); you can avoid this warning by specifying engine='python'.\n",
      "  return func(*args, **kwargs)\n"
     ]
    }
   ],
   "source": [
    "rating=pd.read_csv('zee-ratings.dat',encoding='ISO-8859-1',sep = '::')\n",
    "movies=pd.read_csv('zee-movies.dat',encoding='ISO-8859-1',sep = '::')\n",
    "users=pd.read_csv('zee-users.dat',encoding='ISO-8859-1',sep = '::')"
   ]
  },
  {
   "cell_type": "code",
   "execution_count": 6,
   "id": "1addd975",
   "metadata": {},
   "outputs": [
    {
     "data": {
      "text/html": [
       "<div>\n",
       "<style scoped>\n",
       "    .dataframe tbody tr th:only-of-type {\n",
       "        vertical-align: middle;\n",
       "    }\n",
       "\n",
       "    .dataframe tbody tr th {\n",
       "        vertical-align: top;\n",
       "    }\n",
       "\n",
       "    .dataframe thead th {\n",
       "        text-align: right;\n",
       "    }\n",
       "</style>\n",
       "<table border=\"1\" class=\"dataframe\">\n",
       "  <thead>\n",
       "    <tr style=\"text-align: right;\">\n",
       "      <th></th>\n",
       "      <th>UserID</th>\n",
       "      <th>MovieID</th>\n",
       "      <th>Rating</th>\n",
       "      <th>Timestamp</th>\n",
       "    </tr>\n",
       "  </thead>\n",
       "  <tbody>\n",
       "    <tr>\n",
       "      <th>0</th>\n",
       "      <td>1</td>\n",
       "      <td>1193</td>\n",
       "      <td>5</td>\n",
       "      <td>978300760</td>\n",
       "    </tr>\n",
       "    <tr>\n",
       "      <th>1</th>\n",
       "      <td>1</td>\n",
       "      <td>661</td>\n",
       "      <td>3</td>\n",
       "      <td>978302109</td>\n",
       "    </tr>\n",
       "    <tr>\n",
       "      <th>2</th>\n",
       "      <td>1</td>\n",
       "      <td>914</td>\n",
       "      <td>3</td>\n",
       "      <td>978301968</td>\n",
       "    </tr>\n",
       "    <tr>\n",
       "      <th>3</th>\n",
       "      <td>1</td>\n",
       "      <td>3408</td>\n",
       "      <td>4</td>\n",
       "      <td>978300275</td>\n",
       "    </tr>\n",
       "    <tr>\n",
       "      <th>4</th>\n",
       "      <td>1</td>\n",
       "      <td>2355</td>\n",
       "      <td>5</td>\n",
       "      <td>978824291</td>\n",
       "    </tr>\n",
       "  </tbody>\n",
       "</table>\n",
       "</div>"
      ],
      "text/plain": [
       "   UserID  MovieID  Rating  Timestamp\n",
       "0       1     1193       5  978300760\n",
       "1       1      661       3  978302109\n",
       "2       1      914       3  978301968\n",
       "3       1     3408       4  978300275\n",
       "4       1     2355       5  978824291"
      ]
     },
     "execution_count": 6,
     "metadata": {},
     "output_type": "execute_result"
    }
   ],
   "source": [
    "rating.head()"
   ]
  },
  {
   "cell_type": "code",
   "execution_count": 7,
   "id": "462e0314",
   "metadata": {},
   "outputs": [],
   "source": [
    "# rating['date'] = pd.to_datetime(rating['Timestamp'], format='%H:%M:%S')\n",
    "# rating['hour'] = rating['date'].dt.hour\n",
    "# dt = datetime.fromtimestamp(ts)\n",
    "rating['date'] = [datetime.fromtimestamp(x) for x in rating['Timestamp']]\n",
    "rating['hour'] = rating['date'].dt.hour"
   ]
  },
  {
   "cell_type": "code",
   "execution_count": 8,
   "id": "db2e9173",
   "metadata": {},
   "outputs": [
    {
     "data": {
      "text/html": [
       "<div>\n",
       "<style scoped>\n",
       "    .dataframe tbody tr th:only-of-type {\n",
       "        vertical-align: middle;\n",
       "    }\n",
       "\n",
       "    .dataframe tbody tr th {\n",
       "        vertical-align: top;\n",
       "    }\n",
       "\n",
       "    .dataframe thead th {\n",
       "        text-align: right;\n",
       "    }\n",
       "</style>\n",
       "<table border=\"1\" class=\"dataframe\">\n",
       "  <thead>\n",
       "    <tr style=\"text-align: right;\">\n",
       "      <th></th>\n",
       "      <th>UserID</th>\n",
       "      <th>MovieID</th>\n",
       "      <th>Rating</th>\n",
       "      <th>Timestamp</th>\n",
       "      <th>date</th>\n",
       "      <th>hour</th>\n",
       "    </tr>\n",
       "  </thead>\n",
       "  <tbody>\n",
       "    <tr>\n",
       "      <th>0</th>\n",
       "      <td>1</td>\n",
       "      <td>1193</td>\n",
       "      <td>5</td>\n",
       "      <td>978300760</td>\n",
       "      <td>2001-01-01 03:42:40</td>\n",
       "      <td>3</td>\n",
       "    </tr>\n",
       "    <tr>\n",
       "      <th>1</th>\n",
       "      <td>1</td>\n",
       "      <td>661</td>\n",
       "      <td>3</td>\n",
       "      <td>978302109</td>\n",
       "      <td>2001-01-01 04:05:09</td>\n",
       "      <td>4</td>\n",
       "    </tr>\n",
       "    <tr>\n",
       "      <th>2</th>\n",
       "      <td>1</td>\n",
       "      <td>914</td>\n",
       "      <td>3</td>\n",
       "      <td>978301968</td>\n",
       "      <td>2001-01-01 04:02:48</td>\n",
       "      <td>4</td>\n",
       "    </tr>\n",
       "    <tr>\n",
       "      <th>3</th>\n",
       "      <td>1</td>\n",
       "      <td>3408</td>\n",
       "      <td>4</td>\n",
       "      <td>978300275</td>\n",
       "      <td>2001-01-01 03:34:35</td>\n",
       "      <td>3</td>\n",
       "    </tr>\n",
       "    <tr>\n",
       "      <th>4</th>\n",
       "      <td>1</td>\n",
       "      <td>2355</td>\n",
       "      <td>5</td>\n",
       "      <td>978824291</td>\n",
       "      <td>2001-01-07 05:08:11</td>\n",
       "      <td>5</td>\n",
       "    </tr>\n",
       "  </tbody>\n",
       "</table>\n",
       "</div>"
      ],
      "text/plain": [
       "   UserID  MovieID  Rating  Timestamp                date  hour\n",
       "0       1     1193       5  978300760 2001-01-01 03:42:40     3\n",
       "1       1      661       3  978302109 2001-01-01 04:05:09     4\n",
       "2       1      914       3  978301968 2001-01-01 04:02:48     4\n",
       "3       1     3408       4  978300275 2001-01-01 03:34:35     3\n",
       "4       1     2355       5  978824291 2001-01-07 05:08:11     5"
      ]
     },
     "execution_count": 8,
     "metadata": {},
     "output_type": "execute_result"
    }
   ],
   "source": [
    "rating.head()"
   ]
  },
  {
   "cell_type": "code",
   "execution_count": 9,
   "id": "dce9577f",
   "metadata": {},
   "outputs": [
    {
     "data": {
      "text/html": [
       "<div>\n",
       "<style scoped>\n",
       "    .dataframe tbody tr th:only-of-type {\n",
       "        vertical-align: middle;\n",
       "    }\n",
       "\n",
       "    .dataframe tbody tr th {\n",
       "        vertical-align: top;\n",
       "    }\n",
       "\n",
       "    .dataframe thead th {\n",
       "        text-align: right;\n",
       "    }\n",
       "</style>\n",
       "<table border=\"1\" class=\"dataframe\">\n",
       "  <thead>\n",
       "    <tr style=\"text-align: right;\">\n",
       "      <th></th>\n",
       "      <th>UserID</th>\n",
       "      <th>MovieID</th>\n",
       "      <th>Rating</th>\n",
       "      <th>Timestamp</th>\n",
       "      <th>date</th>\n",
       "      <th>hour</th>\n",
       "    </tr>\n",
       "  </thead>\n",
       "  <tbody>\n",
       "    <tr>\n",
       "      <th>0</th>\n",
       "      <td>1</td>\n",
       "      <td>1193</td>\n",
       "      <td>5</td>\n",
       "      <td>978300760</td>\n",
       "      <td>2001-01-01 03:42:40</td>\n",
       "      <td>3</td>\n",
       "    </tr>\n",
       "    <tr>\n",
       "      <th>120</th>\n",
       "      <td>2</td>\n",
       "      <td>1193</td>\n",
       "      <td>5</td>\n",
       "      <td>978298413</td>\n",
       "      <td>2001-01-01 03:03:33</td>\n",
       "      <td>3</td>\n",
       "    </tr>\n",
       "    <tr>\n",
       "      <th>1339</th>\n",
       "      <td>12</td>\n",
       "      <td>1193</td>\n",
       "      <td>4</td>\n",
       "      <td>978220179</td>\n",
       "      <td>2000-12-31 05:19:39</td>\n",
       "      <td>5</td>\n",
       "    </tr>\n",
       "    <tr>\n",
       "      <th>1518</th>\n",
       "      <td>15</td>\n",
       "      <td>1193</td>\n",
       "      <td>4</td>\n",
       "      <td>978199279</td>\n",
       "      <td>2000-12-30 23:31:19</td>\n",
       "      <td>23</td>\n",
       "    </tr>\n",
       "    <tr>\n",
       "      <th>1747</th>\n",
       "      <td>17</td>\n",
       "      <td>1193</td>\n",
       "      <td>5</td>\n",
       "      <td>978158471</td>\n",
       "      <td>2000-12-30 12:11:11</td>\n",
       "      <td>12</td>\n",
       "    </tr>\n",
       "    <tr>\n",
       "      <th>...</th>\n",
       "      <td>...</td>\n",
       "      <td>...</td>\n",
       "      <td>...</td>\n",
       "      <td>...</td>\n",
       "      <td>...</td>\n",
       "      <td>...</td>\n",
       "    </tr>\n",
       "    <tr>\n",
       "      <th>998284</th>\n",
       "      <td>6033</td>\n",
       "      <td>1193</td>\n",
       "      <td>5</td>\n",
       "      <td>956713500</td>\n",
       "      <td>2000-04-26 07:15:00</td>\n",
       "      <td>7</td>\n",
       "    </tr>\n",
       "    <tr>\n",
       "      <th>998423</th>\n",
       "      <td>6035</td>\n",
       "      <td>1193</td>\n",
       "      <td>5</td>\n",
       "      <td>956710879</td>\n",
       "      <td>2000-04-26 06:31:19</td>\n",
       "      <td>6</td>\n",
       "    </tr>\n",
       "    <tr>\n",
       "      <th>998894</th>\n",
       "      <td>6036</td>\n",
       "      <td>1193</td>\n",
       "      <td>5</td>\n",
       "      <td>956710766</td>\n",
       "      <td>2000-04-26 06:29:26</td>\n",
       "      <td>6</td>\n",
       "    </tr>\n",
       "    <tr>\n",
       "      <th>999580</th>\n",
       "      <td>6037</td>\n",
       "      <td>1193</td>\n",
       "      <td>4</td>\n",
       "      <td>956709215</td>\n",
       "      <td>2000-04-26 06:03:35</td>\n",
       "      <td>6</td>\n",
       "    </tr>\n",
       "    <tr>\n",
       "      <th>999958</th>\n",
       "      <td>6040</td>\n",
       "      <td>1193</td>\n",
       "      <td>4</td>\n",
       "      <td>957716612</td>\n",
       "      <td>2000-05-07 21:53:32</td>\n",
       "      <td>21</td>\n",
       "    </tr>\n",
       "  </tbody>\n",
       "</table>\n",
       "<p>1725 rows × 6 columns</p>\n",
       "</div>"
      ],
      "text/plain": [
       "        UserID  MovieID  Rating  Timestamp                date  hour\n",
       "0            1     1193       5  978300760 2001-01-01 03:42:40     3\n",
       "120          2     1193       5  978298413 2001-01-01 03:03:33     3\n",
       "1339        12     1193       4  978220179 2000-12-31 05:19:39     5\n",
       "1518        15     1193       4  978199279 2000-12-30 23:31:19    23\n",
       "1747        17     1193       5  978158471 2000-12-30 12:11:11    12\n",
       "...        ...      ...     ...        ...                 ...   ...\n",
       "998284    6033     1193       5  956713500 2000-04-26 07:15:00     7\n",
       "998423    6035     1193       5  956710879 2000-04-26 06:31:19     6\n",
       "998894    6036     1193       5  956710766 2000-04-26 06:29:26     6\n",
       "999580    6037     1193       4  956709215 2000-04-26 06:03:35     6\n",
       "999958    6040     1193       4  957716612 2000-05-07 21:53:32    21\n",
       "\n",
       "[1725 rows x 6 columns]"
      ]
     },
     "execution_count": 9,
     "metadata": {},
     "output_type": "execute_result"
    }
   ],
   "source": [
    "rating.loc[rating['MovieID']==1193]"
   ]
  },
  {
   "cell_type": "code",
   "execution_count": 10,
   "id": "89051a69",
   "metadata": {},
   "outputs": [
    {
     "data": {
      "text/plain": [
       "1000209"
      ]
     },
     "execution_count": 10,
     "metadata": {},
     "output_type": "execute_result"
    }
   ],
   "source": [
    "len(np.unique(rating[['UserID', 'MovieID']], axis=0))"
   ]
  },
  {
   "cell_type": "code",
   "execution_count": 11,
   "id": "19489186",
   "metadata": {},
   "outputs": [
    {
     "data": {
      "text/plain": [
       "1000209"
      ]
     },
     "execution_count": 11,
     "metadata": {},
     "output_type": "execute_result"
    }
   ],
   "source": [
    "len(rating['UserID'])"
   ]
  },
  {
   "cell_type": "code",
   "execution_count": 12,
   "id": "1a10ba7a",
   "metadata": {},
   "outputs": [],
   "source": [
    "movies.columns = ['MovieID','Title','Genres']"
   ]
  },
  {
   "cell_type": "markdown",
   "id": "601aa292",
   "metadata": {},
   "source": [
    "<p>Since len(rating['UserID']) == len(np.unique(rating[['UserID', 'MovieID']], axis=0)) = 1000209<br>\n",
    "no repeatition of data present<p/>"
   ]
  },
  {
   "cell_type": "code",
   "execution_count": 13,
   "id": "5ea34caa",
   "metadata": {},
   "outputs": [
    {
     "data": {
      "text/html": [
       "<div>\n",
       "<style scoped>\n",
       "    .dataframe tbody tr th:only-of-type {\n",
       "        vertical-align: middle;\n",
       "    }\n",
       "\n",
       "    .dataframe tbody tr th {\n",
       "        vertical-align: top;\n",
       "    }\n",
       "\n",
       "    .dataframe thead th {\n",
       "        text-align: right;\n",
       "    }\n",
       "</style>\n",
       "<table border=\"1\" class=\"dataframe\">\n",
       "  <thead>\n",
       "    <tr style=\"text-align: right;\">\n",
       "      <th></th>\n",
       "      <th>MovieID</th>\n",
       "      <th>Title</th>\n",
       "      <th>Genres</th>\n",
       "    </tr>\n",
       "  </thead>\n",
       "  <tbody>\n",
       "    <tr>\n",
       "      <th>0</th>\n",
       "      <td>1</td>\n",
       "      <td>Toy Story (1995)</td>\n",
       "      <td>Animation|Children's|Comedy</td>\n",
       "    </tr>\n",
       "    <tr>\n",
       "      <th>1</th>\n",
       "      <td>2</td>\n",
       "      <td>Jumanji (1995)</td>\n",
       "      <td>Adventure|Children's|Fantasy</td>\n",
       "    </tr>\n",
       "    <tr>\n",
       "      <th>2</th>\n",
       "      <td>3</td>\n",
       "      <td>Grumpier Old Men (1995)</td>\n",
       "      <td>Comedy|Romance</td>\n",
       "    </tr>\n",
       "    <tr>\n",
       "      <th>3</th>\n",
       "      <td>4</td>\n",
       "      <td>Waiting to Exhale (1995)</td>\n",
       "      <td>Comedy|Drama</td>\n",
       "    </tr>\n",
       "    <tr>\n",
       "      <th>4</th>\n",
       "      <td>5</td>\n",
       "      <td>Father of the Bride Part II (1995)</td>\n",
       "      <td>Comedy</td>\n",
       "    </tr>\n",
       "  </tbody>\n",
       "</table>\n",
       "</div>"
      ],
      "text/plain": [
       "   MovieID                               Title                        Genres\n",
       "0        1                    Toy Story (1995)   Animation|Children's|Comedy\n",
       "1        2                      Jumanji (1995)  Adventure|Children's|Fantasy\n",
       "2        3             Grumpier Old Men (1995)                Comedy|Romance\n",
       "3        4            Waiting to Exhale (1995)                  Comedy|Drama\n",
       "4        5  Father of the Bride Part II (1995)                        Comedy"
      ]
     },
     "execution_count": 13,
     "metadata": {},
     "output_type": "execute_result"
    }
   ],
   "source": [
    "movies.head()"
   ]
  },
  {
   "cell_type": "code",
   "execution_count": 14,
   "id": "7a0a028c",
   "metadata": {},
   "outputs": [
    {
     "data": {
      "text/html": [
       "<div>\n",
       "<style scoped>\n",
       "    .dataframe tbody tr th:only-of-type {\n",
       "        vertical-align: middle;\n",
       "    }\n",
       "\n",
       "    .dataframe tbody tr th {\n",
       "        vertical-align: top;\n",
       "    }\n",
       "\n",
       "    .dataframe thead th {\n",
       "        text-align: right;\n",
       "    }\n",
       "</style>\n",
       "<table border=\"1\" class=\"dataframe\">\n",
       "  <thead>\n",
       "    <tr style=\"text-align: right;\">\n",
       "      <th></th>\n",
       "      <th>MovieID</th>\n",
       "      <th>Title</th>\n",
       "      <th>Genres</th>\n",
       "    </tr>\n",
       "  </thead>\n",
       "  <tbody>\n",
       "    <tr>\n",
       "      <th>1176</th>\n",
       "      <td>1193</td>\n",
       "      <td>One Flew Over the Cuckoo's Nest (1975)</td>\n",
       "      <td>Drama</td>\n",
       "    </tr>\n",
       "  </tbody>\n",
       "</table>\n",
       "</div>"
      ],
      "text/plain": [
       "      MovieID                                   Title Genres\n",
       "1176     1193  One Flew Over the Cuckoo's Nest (1975)  Drama"
      ]
     },
     "execution_count": 14,
     "metadata": {},
     "output_type": "execute_result"
    }
   ],
   "source": [
    "movies.loc[movies['MovieID']==1193]"
   ]
  },
  {
   "cell_type": "code",
   "execution_count": 15,
   "id": "d1b2b828",
   "metadata": {},
   "outputs": [],
   "source": [
    "# temp = movies['Genres'].str.split('|', expand=True)"
   ]
  },
  {
   "cell_type": "code",
   "execution_count": 16,
   "id": "73997ac8",
   "metadata": {},
   "outputs": [
    {
     "data": {
      "text/plain": [
       "array(['Action', 'Adventure', 'Animation', \"Children's\", 'Comedy',\n",
       "       'Crime', 'Documentary', 'Drama', 'Fantasy', 'Film-Noir', 'Horror',\n",
       "       'Musical', 'Mystery', 'Romance', 'Sci-Fi', 'Thriller', 'War',\n",
       "       'Western'], dtype='<U11')"
      ]
     },
     "execution_count": 16,
     "metadata": {},
     "output_type": "execute_result"
    }
   ],
   "source": [
    "### Join every string in every row, split the result, pull out the unique values.\n",
    "genres = np.unique('|'.join(movies['Genres']).split('|'))\n",
    "genres"
   ]
  },
  {
   "cell_type": "code",
   "execution_count": 17,
   "id": "054cfdb8",
   "metadata": {},
   "outputs": [],
   "source": [
    "# genres = np.unique(genres)\n",
    "for genre in genres:\n",
    "    movies[genre] = movies['Genres'].str.contains(genre).astype('int')\n",
    "movies = movies.drop(['Genres'],axis=1)\n",
    "# movies.head() "
   ]
  },
  {
   "cell_type": "code",
   "execution_count": 18,
   "id": "56ff2467",
   "metadata": {},
   "outputs": [
    {
     "name": "stderr",
     "output_type": "stream",
     "text": [
      "C:\\anaconda3\\envs\\3_7\\lib\\site-packages\\ipykernel_launcher.py:2: FutureWarning: The default value of regex will change from True to False in a future version. In addition, single character regular expressions will *not* be treated as literal strings when regex=True.\n",
      "  \n",
      "C:\\anaconda3\\envs\\3_7\\lib\\site-packages\\ipykernel_launcher.py:3: FutureWarning: The default value of regex will change from True to False in a future version. In addition, single character regular expressions will *not* be treated as literal strings when regex=True.\n",
      "  This is separate from the ipykernel package so we can avoid doing imports until\n"
     ]
    },
    {
     "data": {
      "text/html": [
       "<div>\n",
       "<style scoped>\n",
       "    .dataframe tbody tr th:only-of-type {\n",
       "        vertical-align: middle;\n",
       "    }\n",
       "\n",
       "    .dataframe tbody tr th {\n",
       "        vertical-align: top;\n",
       "    }\n",
       "\n",
       "    .dataframe thead th {\n",
       "        text-align: right;\n",
       "    }\n",
       "</style>\n",
       "<table border=\"1\" class=\"dataframe\">\n",
       "  <thead>\n",
       "    <tr style=\"text-align: right;\">\n",
       "      <th></th>\n",
       "      <th>MovieID</th>\n",
       "      <th>Title</th>\n",
       "      <th>Action</th>\n",
       "      <th>Adventure</th>\n",
       "      <th>Animation</th>\n",
       "      <th>Children's</th>\n",
       "      <th>Comedy</th>\n",
       "      <th>Crime</th>\n",
       "      <th>Documentary</th>\n",
       "      <th>Drama</th>\n",
       "      <th>...</th>\n",
       "      <th>Film-Noir</th>\n",
       "      <th>Horror</th>\n",
       "      <th>Musical</th>\n",
       "      <th>Mystery</th>\n",
       "      <th>Romance</th>\n",
       "      <th>Sci-Fi</th>\n",
       "      <th>Thriller</th>\n",
       "      <th>War</th>\n",
       "      <th>Western</th>\n",
       "      <th>Year</th>\n",
       "    </tr>\n",
       "  </thead>\n",
       "  <tbody>\n",
       "    <tr>\n",
       "      <th>0</th>\n",
       "      <td>1</td>\n",
       "      <td>Toy Story (1995)</td>\n",
       "      <td>0</td>\n",
       "      <td>0</td>\n",
       "      <td>1</td>\n",
       "      <td>1</td>\n",
       "      <td>1</td>\n",
       "      <td>0</td>\n",
       "      <td>0</td>\n",
       "      <td>0</td>\n",
       "      <td>...</td>\n",
       "      <td>0</td>\n",
       "      <td>0</td>\n",
       "      <td>0</td>\n",
       "      <td>0</td>\n",
       "      <td>0</td>\n",
       "      <td>0</td>\n",
       "      <td>0</td>\n",
       "      <td>0</td>\n",
       "      <td>0</td>\n",
       "      <td>1995</td>\n",
       "    </tr>\n",
       "    <tr>\n",
       "      <th>1</th>\n",
       "      <td>2</td>\n",
       "      <td>Jumanji (1995)</td>\n",
       "      <td>0</td>\n",
       "      <td>1</td>\n",
       "      <td>0</td>\n",
       "      <td>1</td>\n",
       "      <td>0</td>\n",
       "      <td>0</td>\n",
       "      <td>0</td>\n",
       "      <td>0</td>\n",
       "      <td>...</td>\n",
       "      <td>0</td>\n",
       "      <td>0</td>\n",
       "      <td>0</td>\n",
       "      <td>0</td>\n",
       "      <td>0</td>\n",
       "      <td>0</td>\n",
       "      <td>0</td>\n",
       "      <td>0</td>\n",
       "      <td>0</td>\n",
       "      <td>1995</td>\n",
       "    </tr>\n",
       "    <tr>\n",
       "      <th>2</th>\n",
       "      <td>3</td>\n",
       "      <td>Grumpier Old Men (1995)</td>\n",
       "      <td>0</td>\n",
       "      <td>0</td>\n",
       "      <td>0</td>\n",
       "      <td>0</td>\n",
       "      <td>1</td>\n",
       "      <td>0</td>\n",
       "      <td>0</td>\n",
       "      <td>0</td>\n",
       "      <td>...</td>\n",
       "      <td>0</td>\n",
       "      <td>0</td>\n",
       "      <td>0</td>\n",
       "      <td>0</td>\n",
       "      <td>1</td>\n",
       "      <td>0</td>\n",
       "      <td>0</td>\n",
       "      <td>0</td>\n",
       "      <td>0</td>\n",
       "      <td>1995</td>\n",
       "    </tr>\n",
       "    <tr>\n",
       "      <th>3</th>\n",
       "      <td>4</td>\n",
       "      <td>Waiting to Exhale (1995)</td>\n",
       "      <td>0</td>\n",
       "      <td>0</td>\n",
       "      <td>0</td>\n",
       "      <td>0</td>\n",
       "      <td>1</td>\n",
       "      <td>0</td>\n",
       "      <td>0</td>\n",
       "      <td>1</td>\n",
       "      <td>...</td>\n",
       "      <td>0</td>\n",
       "      <td>0</td>\n",
       "      <td>0</td>\n",
       "      <td>0</td>\n",
       "      <td>0</td>\n",
       "      <td>0</td>\n",
       "      <td>0</td>\n",
       "      <td>0</td>\n",
       "      <td>0</td>\n",
       "      <td>1995</td>\n",
       "    </tr>\n",
       "    <tr>\n",
       "      <th>4</th>\n",
       "      <td>5</td>\n",
       "      <td>Father of the Bride Part II (1995)</td>\n",
       "      <td>0</td>\n",
       "      <td>0</td>\n",
       "      <td>0</td>\n",
       "      <td>0</td>\n",
       "      <td>1</td>\n",
       "      <td>0</td>\n",
       "      <td>0</td>\n",
       "      <td>0</td>\n",
       "      <td>...</td>\n",
       "      <td>0</td>\n",
       "      <td>0</td>\n",
       "      <td>0</td>\n",
       "      <td>0</td>\n",
       "      <td>0</td>\n",
       "      <td>0</td>\n",
       "      <td>0</td>\n",
       "      <td>0</td>\n",
       "      <td>0</td>\n",
       "      <td>1995</td>\n",
       "    </tr>\n",
       "  </tbody>\n",
       "</table>\n",
       "<p>5 rows × 21 columns</p>\n",
       "</div>"
      ],
      "text/plain": [
       "   MovieID                               Title  Action  Adventure  Animation  \\\n",
       "0        1                    Toy Story (1995)       0          0          1   \n",
       "1        2                      Jumanji (1995)       0          1          0   \n",
       "2        3             Grumpier Old Men (1995)       0          0          0   \n",
       "3        4            Waiting to Exhale (1995)       0          0          0   \n",
       "4        5  Father of the Bride Part II (1995)       0          0          0   \n",
       "\n",
       "   Children's  Comedy  Crime  Documentary  Drama  ...  Film-Noir  Horror  \\\n",
       "0           1       1      0            0      0  ...          0       0   \n",
       "1           1       0      0            0      0  ...          0       0   \n",
       "2           0       1      0            0      0  ...          0       0   \n",
       "3           0       1      0            0      1  ...          0       0   \n",
       "4           0       1      0            0      0  ...          0       0   \n",
       "\n",
       "   Musical  Mystery  Romance  Sci-Fi  Thriller  War  Western  Year  \n",
       "0        0        0        0       0         0    0        0  1995  \n",
       "1        0        0        0       0         0    0        0  1995  \n",
       "2        0        0        1       0         0    0        0  1995  \n",
       "3        0        0        0       0         0    0        0  1995  \n",
       "4        0        0        0       0         0    0        0  1995  \n",
       "\n",
       "[5 rows x 21 columns]"
      ]
     },
     "execution_count": 18,
     "metadata": {},
     "output_type": "execute_result"
    }
   ],
   "source": [
    "movies['Year'] = movies['Title'].str.extract(\"(\\(\\d+\\))\", expand=True)\n",
    "movies['Year'] = movies['Year'].str.replace(')', '')\n",
    "movies['Year'] = movies['Year'].str.replace('(', '')\n",
    "movies.head()"
   ]
  },
  {
   "cell_type": "code",
   "execution_count": 19,
   "id": "52bc2501",
   "metadata": {},
   "outputs": [],
   "source": [
    "# movies = pd.concat([movies, temp], axis=1,ignore_index=True)\n",
    "# movies.columns = ['Movie ID','Title','Genres','Genres1','Genres2','Genres3','Genres4','Genres5','Genres6']"
   ]
  },
  {
   "cell_type": "code",
   "execution_count": 20,
   "id": "4d937bcd",
   "metadata": {},
   "outputs": [],
   "source": [
    "# movies=movies.drop(['Genres'],axis=1)"
   ]
  },
  {
   "cell_type": "code",
   "execution_count": 21,
   "id": "bb91d4b4",
   "metadata": {},
   "outputs": [
    {
     "data": {
      "text/html": [
       "<div>\n",
       "<style scoped>\n",
       "    .dataframe tbody tr th:only-of-type {\n",
       "        vertical-align: middle;\n",
       "    }\n",
       "\n",
       "    .dataframe tbody tr th {\n",
       "        vertical-align: top;\n",
       "    }\n",
       "\n",
       "    .dataframe thead th {\n",
       "        text-align: right;\n",
       "    }\n",
       "</style>\n",
       "<table border=\"1\" class=\"dataframe\">\n",
       "  <thead>\n",
       "    <tr style=\"text-align: right;\">\n",
       "      <th></th>\n",
       "      <th>UserID</th>\n",
       "      <th>Gender</th>\n",
       "      <th>Age</th>\n",
       "      <th>Occupation</th>\n",
       "      <th>Zip-code</th>\n",
       "    </tr>\n",
       "  </thead>\n",
       "  <tbody>\n",
       "    <tr>\n",
       "      <th>0</th>\n",
       "      <td>1</td>\n",
       "      <td>F</td>\n",
       "      <td>1</td>\n",
       "      <td>10</td>\n",
       "      <td>48067</td>\n",
       "    </tr>\n",
       "    <tr>\n",
       "      <th>1</th>\n",
       "      <td>2</td>\n",
       "      <td>M</td>\n",
       "      <td>56</td>\n",
       "      <td>16</td>\n",
       "      <td>70072</td>\n",
       "    </tr>\n",
       "    <tr>\n",
       "      <th>2</th>\n",
       "      <td>3</td>\n",
       "      <td>M</td>\n",
       "      <td>25</td>\n",
       "      <td>15</td>\n",
       "      <td>55117</td>\n",
       "    </tr>\n",
       "    <tr>\n",
       "      <th>3</th>\n",
       "      <td>4</td>\n",
       "      <td>M</td>\n",
       "      <td>45</td>\n",
       "      <td>7</td>\n",
       "      <td>02460</td>\n",
       "    </tr>\n",
       "    <tr>\n",
       "      <th>4</th>\n",
       "      <td>5</td>\n",
       "      <td>M</td>\n",
       "      <td>25</td>\n",
       "      <td>20</td>\n",
       "      <td>55455</td>\n",
       "    </tr>\n",
       "  </tbody>\n",
       "</table>\n",
       "</div>"
      ],
      "text/plain": [
       "   UserID Gender  Age  Occupation Zip-code\n",
       "0       1      F    1          10    48067\n",
       "1       2      M   56          16    70072\n",
       "2       3      M   25          15    55117\n",
       "3       4      M   45           7    02460\n",
       "4       5      M   25          20    55455"
      ]
     },
     "execution_count": 21,
     "metadata": {},
     "output_type": "execute_result"
    }
   ],
   "source": [
    "users.head()"
   ]
  },
  {
   "cell_type": "code",
   "execution_count": 22,
   "id": "aaf89bd3",
   "metadata": {},
   "outputs": [],
   "source": [
    "users['Encoded_Gender']= label.fit_transform(users['Gender'])\n",
    "users = users.drop(['Gender'],axis = 1)"
   ]
  },
  {
   "cell_type": "code",
   "execution_count": 23,
   "id": "0cbba2ca",
   "metadata": {},
   "outputs": [
    {
     "data": {
      "text/html": [
       "<div>\n",
       "<style scoped>\n",
       "    .dataframe tbody tr th:only-of-type {\n",
       "        vertical-align: middle;\n",
       "    }\n",
       "\n",
       "    .dataframe tbody tr th {\n",
       "        vertical-align: top;\n",
       "    }\n",
       "\n",
       "    .dataframe thead th {\n",
       "        text-align: right;\n",
       "    }\n",
       "</style>\n",
       "<table border=\"1\" class=\"dataframe\">\n",
       "  <thead>\n",
       "    <tr style=\"text-align: right;\">\n",
       "      <th></th>\n",
       "      <th>UserID</th>\n",
       "      <th>Age</th>\n",
       "      <th>Occupation</th>\n",
       "      <th>Zip-code</th>\n",
       "      <th>Encoded_Gender</th>\n",
       "    </tr>\n",
       "  </thead>\n",
       "  <tbody>\n",
       "    <tr>\n",
       "      <th>0</th>\n",
       "      <td>1</td>\n",
       "      <td>1</td>\n",
       "      <td>10</td>\n",
       "      <td>48067</td>\n",
       "      <td>0</td>\n",
       "    </tr>\n",
       "    <tr>\n",
       "      <th>1</th>\n",
       "      <td>2</td>\n",
       "      <td>56</td>\n",
       "      <td>16</td>\n",
       "      <td>70072</td>\n",
       "      <td>1</td>\n",
       "    </tr>\n",
       "    <tr>\n",
       "      <th>2</th>\n",
       "      <td>3</td>\n",
       "      <td>25</td>\n",
       "      <td>15</td>\n",
       "      <td>55117</td>\n",
       "      <td>1</td>\n",
       "    </tr>\n",
       "    <tr>\n",
       "      <th>3</th>\n",
       "      <td>4</td>\n",
       "      <td>45</td>\n",
       "      <td>7</td>\n",
       "      <td>02460</td>\n",
       "      <td>1</td>\n",
       "    </tr>\n",
       "    <tr>\n",
       "      <th>4</th>\n",
       "      <td>5</td>\n",
       "      <td>25</td>\n",
       "      <td>20</td>\n",
       "      <td>55455</td>\n",
       "      <td>1</td>\n",
       "    </tr>\n",
       "  </tbody>\n",
       "</table>\n",
       "</div>"
      ],
      "text/plain": [
       "   UserID  Age  Occupation Zip-code  Encoded_Gender\n",
       "0       1    1          10    48067               0\n",
       "1       2   56          16    70072               1\n",
       "2       3   25          15    55117               1\n",
       "3       4   45           7    02460               1\n",
       "4       5   25          20    55455               1"
      ]
     },
     "execution_count": 23,
     "metadata": {},
     "output_type": "execute_result"
    }
   ],
   "source": [
    "users.head()"
   ]
  },
  {
   "cell_type": "code",
   "execution_count": 24,
   "id": "e1b70378",
   "metadata": {},
   "outputs": [],
   "source": [
    "# merged dataframe \n",
    "merged_df = pd.merge(pd.merge(rating,movies,on='MovieID'),users,on='UserID')"
   ]
  },
  {
   "cell_type": "code",
   "execution_count": 25,
   "id": "bbb2ba3c",
   "metadata": {},
   "outputs": [],
   "source": [
    "x = merged_df.head(2)"
   ]
  },
  {
   "cell_type": "code",
   "execution_count": 26,
   "id": "dc2a4bb6",
   "metadata": {},
   "outputs": [],
   "source": [
    "x.to_csv('file11.csv')"
   ]
  },
  {
   "cell_type": "code",
   "execution_count": 27,
   "id": "f4124d20",
   "metadata": {},
   "outputs": [
    {
     "data": {
      "text/html": [
       "<div>\n",
       "<style scoped>\n",
       "    .dataframe tbody tr th:only-of-type {\n",
       "        vertical-align: middle;\n",
       "    }\n",
       "\n",
       "    .dataframe tbody tr th {\n",
       "        vertical-align: top;\n",
       "    }\n",
       "\n",
       "    .dataframe thead th {\n",
       "        text-align: right;\n",
       "    }\n",
       "</style>\n",
       "<table border=\"1\" class=\"dataframe\">\n",
       "  <thead>\n",
       "    <tr style=\"text-align: right;\">\n",
       "      <th></th>\n",
       "      <th>UserID</th>\n",
       "      <th>MovieID</th>\n",
       "      <th>Rating</th>\n",
       "      <th>Timestamp</th>\n",
       "      <th>hour</th>\n",
       "      <th>Action</th>\n",
       "      <th>Adventure</th>\n",
       "      <th>Animation</th>\n",
       "      <th>Children's</th>\n",
       "      <th>Comedy</th>\n",
       "      <th>...</th>\n",
       "      <th>Musical</th>\n",
       "      <th>Mystery</th>\n",
       "      <th>Romance</th>\n",
       "      <th>Sci-Fi</th>\n",
       "      <th>Thriller</th>\n",
       "      <th>War</th>\n",
       "      <th>Western</th>\n",
       "      <th>Age</th>\n",
       "      <th>Occupation</th>\n",
       "      <th>Encoded_Gender</th>\n",
       "    </tr>\n",
       "  </thead>\n",
       "  <tbody>\n",
       "    <tr>\n",
       "      <th>count</th>\n",
       "      <td>1.000209e+06</td>\n",
       "      <td>1.000209e+06</td>\n",
       "      <td>1.000209e+06</td>\n",
       "      <td>1.000209e+06</td>\n",
       "      <td>1.000209e+06</td>\n",
       "      <td>1.000209e+06</td>\n",
       "      <td>1.000209e+06</td>\n",
       "      <td>1.000209e+06</td>\n",
       "      <td>1.000209e+06</td>\n",
       "      <td>1.000209e+06</td>\n",
       "      <td>...</td>\n",
       "      <td>1.000209e+06</td>\n",
       "      <td>1.000209e+06</td>\n",
       "      <td>1.000209e+06</td>\n",
       "      <td>1.000209e+06</td>\n",
       "      <td>1.000209e+06</td>\n",
       "      <td>1.000209e+06</td>\n",
       "      <td>1.000209e+06</td>\n",
       "      <td>1.000209e+06</td>\n",
       "      <td>1.000209e+06</td>\n",
       "      <td>1.000209e+06</td>\n",
       "    </tr>\n",
       "    <tr>\n",
       "      <th>mean</th>\n",
       "      <td>3.024512e+03</td>\n",
       "      <td>1.865540e+03</td>\n",
       "      <td>3.581564e+00</td>\n",
       "      <td>9.722437e+08</td>\n",
       "      <td>9.730487e+00</td>\n",
       "      <td>2.574032e-01</td>\n",
       "      <td>1.339250e-01</td>\n",
       "      <td>4.328395e-02</td>\n",
       "      <td>7.217092e-02</td>\n",
       "      <td>3.565055e-01</td>\n",
       "      <td>...</td>\n",
       "      <td>4.152432e-02</td>\n",
       "      <td>4.016960e-02</td>\n",
       "      <td>1.474922e-01</td>\n",
       "      <td>1.572611e-01</td>\n",
       "      <td>1.896404e-01</td>\n",
       "      <td>6.851268e-02</td>\n",
       "      <td>2.067868e-02</td>\n",
       "      <td>2.973831e+01</td>\n",
       "      <td>8.036138e+00</td>\n",
       "      <td>7.536115e-01</td>\n",
       "    </tr>\n",
       "    <tr>\n",
       "      <th>std</th>\n",
       "      <td>1.728413e+03</td>\n",
       "      <td>1.096041e+03</td>\n",
       "      <td>1.117102e+00</td>\n",
       "      <td>1.215256e+07</td>\n",
       "      <td>7.294195e+00</td>\n",
       "      <td>4.372036e-01</td>\n",
       "      <td>3.405719e-01</td>\n",
       "      <td>2.034957e-01</td>\n",
       "      <td>2.587708e-01</td>\n",
       "      <td>4.789672e-01</td>\n",
       "      <td>...</td>\n",
       "      <td>1.994996e-01</td>\n",
       "      <td>1.963569e-01</td>\n",
       "      <td>3.545960e-01</td>\n",
       "      <td>3.640470e-01</td>\n",
       "      <td>3.920166e-01</td>\n",
       "      <td>2.526237e-01</td>\n",
       "      <td>1.423063e-01</td>\n",
       "      <td>1.175198e+01</td>\n",
       "      <td>6.531336e+00</td>\n",
       "      <td>4.309076e-01</td>\n",
       "    </tr>\n",
       "    <tr>\n",
       "      <th>min</th>\n",
       "      <td>1.000000e+00</td>\n",
       "      <td>1.000000e+00</td>\n",
       "      <td>1.000000e+00</td>\n",
       "      <td>9.567039e+08</td>\n",
       "      <td>0.000000e+00</td>\n",
       "      <td>0.000000e+00</td>\n",
       "      <td>0.000000e+00</td>\n",
       "      <td>0.000000e+00</td>\n",
       "      <td>0.000000e+00</td>\n",
       "      <td>0.000000e+00</td>\n",
       "      <td>...</td>\n",
       "      <td>0.000000e+00</td>\n",
       "      <td>0.000000e+00</td>\n",
       "      <td>0.000000e+00</td>\n",
       "      <td>0.000000e+00</td>\n",
       "      <td>0.000000e+00</td>\n",
       "      <td>0.000000e+00</td>\n",
       "      <td>0.000000e+00</td>\n",
       "      <td>1.000000e+00</td>\n",
       "      <td>0.000000e+00</td>\n",
       "      <td>0.000000e+00</td>\n",
       "    </tr>\n",
       "    <tr>\n",
       "      <th>25%</th>\n",
       "      <td>1.506000e+03</td>\n",
       "      <td>1.030000e+03</td>\n",
       "      <td>3.000000e+00</td>\n",
       "      <td>9.653026e+08</td>\n",
       "      <td>4.000000e+00</td>\n",
       "      <td>0.000000e+00</td>\n",
       "      <td>0.000000e+00</td>\n",
       "      <td>0.000000e+00</td>\n",
       "      <td>0.000000e+00</td>\n",
       "      <td>0.000000e+00</td>\n",
       "      <td>...</td>\n",
       "      <td>0.000000e+00</td>\n",
       "      <td>0.000000e+00</td>\n",
       "      <td>0.000000e+00</td>\n",
       "      <td>0.000000e+00</td>\n",
       "      <td>0.000000e+00</td>\n",
       "      <td>0.000000e+00</td>\n",
       "      <td>0.000000e+00</td>\n",
       "      <td>2.500000e+01</td>\n",
       "      <td>2.000000e+00</td>\n",
       "      <td>1.000000e+00</td>\n",
       "    </tr>\n",
       "    <tr>\n",
       "      <th>50%</th>\n",
       "      <td>3.070000e+03</td>\n",
       "      <td>1.835000e+03</td>\n",
       "      <td>4.000000e+00</td>\n",
       "      <td>9.730180e+08</td>\n",
       "      <td>8.000000e+00</td>\n",
       "      <td>0.000000e+00</td>\n",
       "      <td>0.000000e+00</td>\n",
       "      <td>0.000000e+00</td>\n",
       "      <td>0.000000e+00</td>\n",
       "      <td>0.000000e+00</td>\n",
       "      <td>...</td>\n",
       "      <td>0.000000e+00</td>\n",
       "      <td>0.000000e+00</td>\n",
       "      <td>0.000000e+00</td>\n",
       "      <td>0.000000e+00</td>\n",
       "      <td>0.000000e+00</td>\n",
       "      <td>0.000000e+00</td>\n",
       "      <td>0.000000e+00</td>\n",
       "      <td>2.500000e+01</td>\n",
       "      <td>7.000000e+00</td>\n",
       "      <td>1.000000e+00</td>\n",
       "    </tr>\n",
       "    <tr>\n",
       "      <th>75%</th>\n",
       "      <td>4.476000e+03</td>\n",
       "      <td>2.770000e+03</td>\n",
       "      <td>4.000000e+00</td>\n",
       "      <td>9.752209e+08</td>\n",
       "      <td>1.500000e+01</td>\n",
       "      <td>1.000000e+00</td>\n",
       "      <td>0.000000e+00</td>\n",
       "      <td>0.000000e+00</td>\n",
       "      <td>0.000000e+00</td>\n",
       "      <td>1.000000e+00</td>\n",
       "      <td>...</td>\n",
       "      <td>0.000000e+00</td>\n",
       "      <td>0.000000e+00</td>\n",
       "      <td>0.000000e+00</td>\n",
       "      <td>0.000000e+00</td>\n",
       "      <td>0.000000e+00</td>\n",
       "      <td>0.000000e+00</td>\n",
       "      <td>0.000000e+00</td>\n",
       "      <td>3.500000e+01</td>\n",
       "      <td>1.400000e+01</td>\n",
       "      <td>1.000000e+00</td>\n",
       "    </tr>\n",
       "    <tr>\n",
       "      <th>max</th>\n",
       "      <td>6.040000e+03</td>\n",
       "      <td>3.952000e+03</td>\n",
       "      <td>5.000000e+00</td>\n",
       "      <td>1.046455e+09</td>\n",
       "      <td>2.300000e+01</td>\n",
       "      <td>1.000000e+00</td>\n",
       "      <td>1.000000e+00</td>\n",
       "      <td>1.000000e+00</td>\n",
       "      <td>1.000000e+00</td>\n",
       "      <td>1.000000e+00</td>\n",
       "      <td>...</td>\n",
       "      <td>1.000000e+00</td>\n",
       "      <td>1.000000e+00</td>\n",
       "      <td>1.000000e+00</td>\n",
       "      <td>1.000000e+00</td>\n",
       "      <td>1.000000e+00</td>\n",
       "      <td>1.000000e+00</td>\n",
       "      <td>1.000000e+00</td>\n",
       "      <td>5.600000e+01</td>\n",
       "      <td>2.000000e+01</td>\n",
       "      <td>1.000000e+00</td>\n",
       "    </tr>\n",
       "  </tbody>\n",
       "</table>\n",
       "<p>8 rows × 26 columns</p>\n",
       "</div>"
      ],
      "text/plain": [
       "             UserID       MovieID        Rating     Timestamp          hour  \\\n",
       "count  1.000209e+06  1.000209e+06  1.000209e+06  1.000209e+06  1.000209e+06   \n",
       "mean   3.024512e+03  1.865540e+03  3.581564e+00  9.722437e+08  9.730487e+00   \n",
       "std    1.728413e+03  1.096041e+03  1.117102e+00  1.215256e+07  7.294195e+00   \n",
       "min    1.000000e+00  1.000000e+00  1.000000e+00  9.567039e+08  0.000000e+00   \n",
       "25%    1.506000e+03  1.030000e+03  3.000000e+00  9.653026e+08  4.000000e+00   \n",
       "50%    3.070000e+03  1.835000e+03  4.000000e+00  9.730180e+08  8.000000e+00   \n",
       "75%    4.476000e+03  2.770000e+03  4.000000e+00  9.752209e+08  1.500000e+01   \n",
       "max    6.040000e+03  3.952000e+03  5.000000e+00  1.046455e+09  2.300000e+01   \n",
       "\n",
       "             Action     Adventure     Animation    Children's        Comedy  \\\n",
       "count  1.000209e+06  1.000209e+06  1.000209e+06  1.000209e+06  1.000209e+06   \n",
       "mean   2.574032e-01  1.339250e-01  4.328395e-02  7.217092e-02  3.565055e-01   \n",
       "std    4.372036e-01  3.405719e-01  2.034957e-01  2.587708e-01  4.789672e-01   \n",
       "min    0.000000e+00  0.000000e+00  0.000000e+00  0.000000e+00  0.000000e+00   \n",
       "25%    0.000000e+00  0.000000e+00  0.000000e+00  0.000000e+00  0.000000e+00   \n",
       "50%    0.000000e+00  0.000000e+00  0.000000e+00  0.000000e+00  0.000000e+00   \n",
       "75%    1.000000e+00  0.000000e+00  0.000000e+00  0.000000e+00  1.000000e+00   \n",
       "max    1.000000e+00  1.000000e+00  1.000000e+00  1.000000e+00  1.000000e+00   \n",
       "\n",
       "       ...       Musical       Mystery       Romance        Sci-Fi  \\\n",
       "count  ...  1.000209e+06  1.000209e+06  1.000209e+06  1.000209e+06   \n",
       "mean   ...  4.152432e-02  4.016960e-02  1.474922e-01  1.572611e-01   \n",
       "std    ...  1.994996e-01  1.963569e-01  3.545960e-01  3.640470e-01   \n",
       "min    ...  0.000000e+00  0.000000e+00  0.000000e+00  0.000000e+00   \n",
       "25%    ...  0.000000e+00  0.000000e+00  0.000000e+00  0.000000e+00   \n",
       "50%    ...  0.000000e+00  0.000000e+00  0.000000e+00  0.000000e+00   \n",
       "75%    ...  0.000000e+00  0.000000e+00  0.000000e+00  0.000000e+00   \n",
       "max    ...  1.000000e+00  1.000000e+00  1.000000e+00  1.000000e+00   \n",
       "\n",
       "           Thriller           War       Western           Age    Occupation  \\\n",
       "count  1.000209e+06  1.000209e+06  1.000209e+06  1.000209e+06  1.000209e+06   \n",
       "mean   1.896404e-01  6.851268e-02  2.067868e-02  2.973831e+01  8.036138e+00   \n",
       "std    3.920166e-01  2.526237e-01  1.423063e-01  1.175198e+01  6.531336e+00   \n",
       "min    0.000000e+00  0.000000e+00  0.000000e+00  1.000000e+00  0.000000e+00   \n",
       "25%    0.000000e+00  0.000000e+00  0.000000e+00  2.500000e+01  2.000000e+00   \n",
       "50%    0.000000e+00  0.000000e+00  0.000000e+00  2.500000e+01  7.000000e+00   \n",
       "75%    0.000000e+00  0.000000e+00  0.000000e+00  3.500000e+01  1.400000e+01   \n",
       "max    1.000000e+00  1.000000e+00  1.000000e+00  5.600000e+01  2.000000e+01   \n",
       "\n",
       "       Encoded_Gender  \n",
       "count    1.000209e+06  \n",
       "mean     7.536115e-01  \n",
       "std      4.309076e-01  \n",
       "min      0.000000e+00  \n",
       "25%      1.000000e+00  \n",
       "50%      1.000000e+00  \n",
       "75%      1.000000e+00  \n",
       "max      1.000000e+00  \n",
       "\n",
       "[8 rows x 26 columns]"
      ]
     },
     "execution_count": 27,
     "metadata": {},
     "output_type": "execute_result"
    }
   ],
   "source": [
    "merged_df.describe()"
   ]
  },
  {
   "cell_type": "code",
   "execution_count": 28,
   "id": "5744ba98",
   "metadata": {},
   "outputs": [
    {
     "data": {
      "text/plain": [
       "UserID            0\n",
       "MovieID           0\n",
       "Rating            0\n",
       "Timestamp         0\n",
       "date              0\n",
       "hour              0\n",
       "Title             0\n",
       "Action            0\n",
       "Adventure         0\n",
       "Animation         0\n",
       "Children's        0\n",
       "Comedy            0\n",
       "Crime             0\n",
       "Documentary       0\n",
       "Drama             0\n",
       "Fantasy           0\n",
       "Film-Noir         0\n",
       "Horror            0\n",
       "Musical           0\n",
       "Mystery           0\n",
       "Romance           0\n",
       "Sci-Fi            0\n",
       "Thriller          0\n",
       "War               0\n",
       "Western           0\n",
       "Year              0\n",
       "Age               0\n",
       "Occupation        0\n",
       "Zip-code          0\n",
       "Encoded_Gender    0\n",
       "dtype: int64"
      ]
     },
     "execution_count": 28,
     "metadata": {},
     "output_type": "execute_result"
    }
   ],
   "source": [
    "merged_df.isnull().sum()"
   ]
  },
  {
   "cell_type": "code",
   "execution_count": 29,
   "id": "2fbe5939",
   "metadata": {},
   "outputs": [
    {
     "data": {
      "text/html": [
       "<div>\n",
       "<style scoped>\n",
       "    .dataframe tbody tr th:only-of-type {\n",
       "        vertical-align: middle;\n",
       "    }\n",
       "\n",
       "    .dataframe tbody tr th {\n",
       "        vertical-align: top;\n",
       "    }\n",
       "\n",
       "    .dataframe thead th {\n",
       "        text-align: right;\n",
       "    }\n",
       "</style>\n",
       "<table border=\"1\" class=\"dataframe\">\n",
       "  <thead>\n",
       "    <tr style=\"text-align: right;\">\n",
       "      <th></th>\n",
       "      <th>Action</th>\n",
       "      <th>Adventure</th>\n",
       "      <th>Animation</th>\n",
       "      <th>Children's</th>\n",
       "      <th>Comedy</th>\n",
       "      <th>Crime</th>\n",
       "      <th>Documentary</th>\n",
       "      <th>Drama</th>\n",
       "      <th>Fantasy</th>\n",
       "      <th>Film-Noir</th>\n",
       "      <th>Horror</th>\n",
       "      <th>Musical</th>\n",
       "      <th>Mystery</th>\n",
       "      <th>Romance</th>\n",
       "      <th>Sci-Fi</th>\n",
       "      <th>Thriller</th>\n",
       "      <th>War</th>\n",
       "      <th>Western</th>\n",
       "    </tr>\n",
       "  </thead>\n",
       "  <tbody>\n",
       "    <tr>\n",
       "      <th>0</th>\n",
       "      <td>257457</td>\n",
       "      <td>133953</td>\n",
       "      <td>43293</td>\n",
       "      <td>72186</td>\n",
       "      <td>356580</td>\n",
       "      <td>79541</td>\n",
       "      <td>7910</td>\n",
       "      <td>354529</td>\n",
       "      <td>36301</td>\n",
       "      <td>18261</td>\n",
       "      <td>76386</td>\n",
       "      <td>41533</td>\n",
       "      <td>40178</td>\n",
       "      <td>147523</td>\n",
       "      <td>157294</td>\n",
       "      <td>189680</td>\n",
       "      <td>68527</td>\n",
       "      <td>20683</td>\n",
       "    </tr>\n",
       "  </tbody>\n",
       "</table>\n",
       "</div>"
      ],
      "text/plain": [
       "   Action  Adventure  Animation  Children's  Comedy  Crime  Documentary  \\\n",
       "0  257457     133953      43293       72186  356580  79541         7910   \n",
       "\n",
       "    Drama  Fantasy  Film-Noir  Horror  Musical  Mystery  Romance  Sci-Fi  \\\n",
       "0  354529    36301      18261   76386    41533    40178   147523  157294   \n",
       "\n",
       "   Thriller    War  Western  \n",
       "0    189680  68527    20683  "
      ]
     },
     "execution_count": 29,
     "metadata": {},
     "output_type": "execute_result"
    }
   ],
   "source": [
    "genre_cols = ['Action', 'Adventure', 'Animation', \"Children's\", 'Comedy',\n",
    "       'Crime', 'Documentary', 'Drama', 'Fantasy', 'Film-Noir', 'Horror',\n",
    "       'Musical', 'Mystery', 'Romance', 'Sci-Fi', 'Thriller', 'War',\n",
    "       'Western']\n",
    "# genre_countplot = pd.DataFrame() \n",
    "genre_countplot = {}\n",
    "for col in genre_cols:\n",
    "    val = np.count_nonzero(merged_df[col], axis=0)\n",
    "    genre_countplot[col]=val\n",
    "    \n",
    "# genre_countplot = sorted(genre_countplot.items(), key=lambda x: x[1], reverse=True)\n",
    "genre_countplot=pd.DataFrame(genre_countplot,index=[0])\n",
    "genre_countplot\n",
    "# DataFrame(dict,)"
   ]
  },
  {
   "cell_type": "code",
   "execution_count": 30,
   "id": "1730f6fc",
   "metadata": {},
   "outputs": [
    {
     "data": {
      "text/plain": [
       "<AxesSubplot:title={'center':'Frequency of each genre'}, xlabel='genre', ylabel='count'>"
      ]
     },
     "execution_count": 30,
     "metadata": {},
     "output_type": "execute_result"
    },
    {
     "data": {
      "image/png": "[encoded data removed]",
      "text/plain": [
       "<Figure size 640x480 with 1 Axes>"
      ]
     },
     "metadata": {},
     "output_type": "display_data"
    }
   ],
   "source": [
    "genre_countplot.plot.bar(title='Frequency of each genre', xlabel = 'genre', ylabel='count')"
   ]
  },
  {
   "cell_type": "code",
   "execution_count": 31,
   "id": "ffd6099a",
   "metadata": {},
   "outputs": [
    {
     "data": {
      "text/html": [
       "<div>\n",
       "<style scoped>\n",
       "    .dataframe tbody tr th:only-of-type {\n",
       "        vertical-align: middle;\n",
       "    }\n",
       "\n",
       "    .dataframe tbody tr th {\n",
       "        vertical-align: top;\n",
       "    }\n",
       "\n",
       "    .dataframe thead th {\n",
       "        text-align: right;\n",
       "    }\n",
       "</style>\n",
       "<table border=\"1\" class=\"dataframe\">\n",
       "  <thead>\n",
       "    <tr style=\"text-align: right;\">\n",
       "      <th></th>\n",
       "      <th>Action</th>\n",
       "      <th>Adventure</th>\n",
       "      <th>Animation</th>\n",
       "      <th>Children's</th>\n",
       "      <th>Comedy</th>\n",
       "      <th>Crime</th>\n",
       "      <th>Documentary</th>\n",
       "      <th>Drama</th>\n",
       "      <th>Fantasy</th>\n",
       "      <th>Film-Noir</th>\n",
       "      <th>Horror</th>\n",
       "      <th>Musical</th>\n",
       "      <th>Mystery</th>\n",
       "      <th>Romance</th>\n",
       "      <th>Sci-Fi</th>\n",
       "      <th>Thriller</th>\n",
       "      <th>War</th>\n",
       "      <th>Western</th>\n",
       "    </tr>\n",
       "  </thead>\n",
       "  <tbody>\n",
       "    <tr>\n",
       "      <th>0</th>\n",
       "      <td>3.491185</td>\n",
       "      <td>3.477257</td>\n",
       "      <td>3.684868</td>\n",
       "      <td>3.422035</td>\n",
       "      <td>3.522099</td>\n",
       "      <td>3.708679</td>\n",
       "      <td>3.933123</td>\n",
       "      <td>3.766332</td>\n",
       "      <td>3.447371</td>\n",
       "      <td>4.075188</td>\n",
       "      <td>3.215013</td>\n",
       "      <td>3.665519</td>\n",
       "      <td>3.668102</td>\n",
       "      <td>3.607465</td>\n",
       "      <td>3.466521</td>\n",
       "      <td>3.570466</td>\n",
       "      <td>3.893327</td>\n",
       "      <td>3.63777</td>\n",
       "    </tr>\n",
       "  </tbody>\n",
       "</table>\n",
       "</div>"
      ],
      "text/plain": [
       "     Action  Adventure  Animation  Children's    Comedy     Crime  \\\n",
       "0  3.491185   3.477257   3.684868    3.422035  3.522099  3.708679   \n",
       "\n",
       "   Documentary     Drama   Fantasy  Film-Noir    Horror   Musical   Mystery  \\\n",
       "0     3.933123  3.766332  3.447371   4.075188  3.215013  3.665519  3.668102   \n",
       "\n",
       "    Romance    Sci-Fi  Thriller       War  Western  \n",
       "0  3.607465  3.466521  3.570466  3.893327  3.63777  "
      ]
     },
     "execution_count": 31,
     "metadata": {},
     "output_type": "execute_result"
    }
   ],
   "source": [
    "avg_rating={}\n",
    "for col in genre_cols:\n",
    "    df2=merged_df.loc[merged_df[col] == 1, 'Rating'].mean()\n",
    "    avg_rating[col]=df2\n",
    "avg_rating=pd.DataFrame(avg_rating,index=[0])\n",
    "avg_rating"
   ]
  },
  {
   "cell_type": "code",
   "execution_count": 101,
   "id": "ca27ce78",
   "metadata": {},
   "outputs": [
    {
     "data": {
      "text/plain": [
       "<AxesSubplot:title={'center':'Average rating of each genre'}, xlabel='genre', ylabel='Average'>"
      ]
     },
     "execution_count": 101,
     "metadata": {},
     "output_type": "execute_result"
    },
    {
     "data": {
      "image/png": "[encoded data removed]",
      "text/plain": [
       "<Figure size 640x480 with 1 Axes>"
      ]
     },
     "metadata": {},
     "output_type": "display_data"
    }
   ],
   "source": [
    "avg_rating.plot.bar(title='Average rating of each genre', xlabel = 'genre', ylabel='Average')"
   ]
  },
  {
   "cell_type": "code",
   "execution_count": 33,
   "id": "a0fa4409",
   "metadata": {},
   "outputs": [
    {
     "data": {
      "text/html": [
       "<div>\n",
       "<style scoped>\n",
       "    .dataframe tbody tr th:only-of-type {\n",
       "        vertical-align: middle;\n",
       "    }\n",
       "\n",
       "    .dataframe tbody tr th {\n",
       "        vertical-align: top;\n",
       "    }\n",
       "\n",
       "    .dataframe thead th {\n",
       "        text-align: right;\n",
       "    }\n",
       "</style>\n",
       "<table border=\"1\" class=\"dataframe\">\n",
       "  <thead>\n",
       "    <tr style=\"text-align: right;\">\n",
       "      <th></th>\n",
       "      <th>1999</th>\n",
       "      <th>1998</th>\n",
       "      <th>1997</th>\n",
       "      <th>1995</th>\n",
       "      <th>1996</th>\n",
       "      <th>1994</th>\n",
       "      <th>1993</th>\n",
       "      <th>2000</th>\n",
       "      <th>1992</th>\n",
       "      <th>1986</th>\n",
       "      <th>...</th>\n",
       "      <th>1930</th>\n",
       "      <th>1932</th>\n",
       "      <th>1927</th>\n",
       "      <th>1922</th>\n",
       "      <th>1921</th>\n",
       "      <th>1919</th>\n",
       "      <th>1929</th>\n",
       "      <th>1928</th>\n",
       "      <th>1920</th>\n",
       "      <th>1923</th>\n",
       "    </tr>\n",
       "  </thead>\n",
       "  <tbody>\n",
       "    <tr>\n",
       "      <th>0</th>\n",
       "      <td>86833</td>\n",
       "      <td>68226</td>\n",
       "      <td>65402</td>\n",
       "      <td>60754</td>\n",
       "      <td>59382</td>\n",
       "      <td>52963</td>\n",
       "      <td>46317</td>\n",
       "      <td>41000</td>\n",
       "      <td>37866</td>\n",
       "      <td>30865</td>\n",
       "      <td>...</td>\n",
       "      <td>382</td>\n",
       "      <td>372</td>\n",
       "      <td>252</td>\n",
       "      <td>238</td>\n",
       "      <td>62</td>\n",
       "      <td>45</td>\n",
       "      <td>43</td>\n",
       "      <td>27</td>\n",
       "      <td>24</td>\n",
       "      <td>17</td>\n",
       "    </tr>\n",
       "  </tbody>\n",
       "</table>\n",
       "<p>1 rows × 81 columns</p>\n",
       "</div>"
      ],
      "text/plain": [
       "    1999   1998   1997   1995   1996   1994   1993   2000   1992   1986  ...  \\\n",
       "0  86833  68226  65402  60754  59382  52963  46317  41000  37866  30865  ...   \n",
       "\n",
       "   1930  1932  1927  1922  1921  1919  1929  1928  1920  1923  \n",
       "0   382   372   252   238    62    45    43    27    24    17  \n",
       "\n",
       "[1 rows x 81 columns]"
      ]
     },
     "execution_count": 33,
     "metadata": {},
     "output_type": "execute_result"
    }
   ],
   "source": [
    "plot_yearly_count=merged_df['Year'].value_counts()\n",
    "# plot_yearly_count.columns = ['year','count']\n",
    "plot_yearly_count=plot_yearly_count.to_dict()\n",
    "plot_yearly_count=pd.DataFrame(plot_yearly_count,index=[0])\n",
    "plot_yearly_count"
   ]
  },
  {
   "cell_type": "code",
   "execution_count": 34,
   "id": "f9af5cc9",
   "metadata": {},
   "outputs": [
    {
     "data": {
      "text/plain": [
       "<AxesSubplot:title={'center':'Movies released each year'}, xlabel='Year', ylabel='Movies Released'>"
      ]
     },
     "execution_count": 34,
     "metadata": {},
     "output_type": "execute_result"
    },
    {
     "data": {
      "image/png": "[encoded data removed]",
      "text/plain": [
       "<Figure size 640x480 with 1 Axes>"
      ]
     },
     "metadata": {},
     "output_type": "display_data"
    }
   ],
   "source": [
    "plot_yearly_count.plot.bar(title='Movies released each year', xlabel = 'Year', ylabel='Movies Released')"
   ]
  },
  {
   "cell_type": "code",
   "execution_count": null,
   "id": "3ec67930",
   "metadata": {},
   "outputs": [],
   "source": []
  },
  {
   "cell_type": "code",
   "execution_count": 35,
   "id": "63a4724a",
   "metadata": {},
   "outputs": [
    {
     "data": {
      "text/plain": [
       "Index(['UserID', 'MovieID', 'Rating', 'Timestamp', 'date', 'hour', 'Title',\n",
       "       'Action', 'Adventure', 'Animation', 'Children's', 'Comedy', 'Crime',\n",
       "       'Documentary', 'Drama', 'Fantasy', 'Film-Noir', 'Horror', 'Musical',\n",
       "       'Mystery', 'Romance', 'Sci-Fi', 'Thriller', 'War', 'Western', 'Year',\n",
       "       'Age', 'Occupation', 'Zip-code', 'Encoded_Gender'],\n",
       "      dtype='object')"
      ]
     },
     "execution_count": 35,
     "metadata": {},
     "output_type": "execute_result"
    }
   ],
   "source": [
    "merged_df.columns"
   ]
  },
  {
   "cell_type": "code",
   "execution_count": 36,
   "id": "d0a8c5b1",
   "metadata": {},
   "outputs": [],
   "source": [
    "# use_df = merged_df.drop(['Title'],axis=1)\n",
    "# use_df.columns\n",
    "use_df = merged_df"
   ]
  },
  {
   "cell_type": "code",
   "execution_count": 37,
   "id": "09c07ab4",
   "metadata": {},
   "outputs": [
    {
     "data": {
      "text/html": [
       "<div>\n",
       "<style scoped>\n",
       "    .dataframe tbody tr th:only-of-type {\n",
       "        vertical-align: middle;\n",
       "    }\n",
       "\n",
       "    .dataframe tbody tr th {\n",
       "        vertical-align: top;\n",
       "    }\n",
       "\n",
       "    .dataframe thead th {\n",
       "        text-align: right;\n",
       "    }\n",
       "</style>\n",
       "<table border=\"1\" class=\"dataframe\">\n",
       "  <thead>\n",
       "    <tr style=\"text-align: right;\">\n",
       "      <th></th>\n",
       "      <th>UserID</th>\n",
       "      <th>Rating</th>\n",
       "    </tr>\n",
       "  </thead>\n",
       "  <tbody>\n",
       "    <tr>\n",
       "      <th>0</th>\n",
       "      <td>1</td>\n",
       "      <td>53</td>\n",
       "    </tr>\n",
       "    <tr>\n",
       "      <th>1</th>\n",
       "      <td>2</td>\n",
       "      <td>129</td>\n",
       "    </tr>\n",
       "    <tr>\n",
       "      <th>2</th>\n",
       "      <td>3</td>\n",
       "      <td>51</td>\n",
       "    </tr>\n",
       "    <tr>\n",
       "      <th>3</th>\n",
       "      <td>4</td>\n",
       "      <td>21</td>\n",
       "    </tr>\n",
       "    <tr>\n",
       "      <th>4</th>\n",
       "      <td>5</td>\n",
       "      <td>198</td>\n",
       "    </tr>\n",
       "    <tr>\n",
       "      <th>...</th>\n",
       "      <td>...</td>\n",
       "      <td>...</td>\n",
       "    </tr>\n",
       "    <tr>\n",
       "      <th>6035</th>\n",
       "      <td>6036</td>\n",
       "      <td>888</td>\n",
       "    </tr>\n",
       "    <tr>\n",
       "      <th>6036</th>\n",
       "      <td>6037</td>\n",
       "      <td>202</td>\n",
       "    </tr>\n",
       "    <tr>\n",
       "      <th>6037</th>\n",
       "      <td>6038</td>\n",
       "      <td>20</td>\n",
       "    </tr>\n",
       "    <tr>\n",
       "      <th>6038</th>\n",
       "      <td>6039</td>\n",
       "      <td>123</td>\n",
       "    </tr>\n",
       "    <tr>\n",
       "      <th>6039</th>\n",
       "      <td>6040</td>\n",
       "      <td>341</td>\n",
       "    </tr>\n",
       "  </tbody>\n",
       "</table>\n",
       "<p>6040 rows × 2 columns</p>\n",
       "</div>"
      ],
      "text/plain": [
       "      UserID  Rating\n",
       "0          1      53\n",
       "1          2     129\n",
       "2          3      51\n",
       "3          4      21\n",
       "4          5     198\n",
       "...      ...     ...\n",
       "6035    6036     888\n",
       "6036    6037     202\n",
       "6037    6038      20\n",
       "6038    6039     123\n",
       "6039    6040     341\n",
       "\n",
       "[6040 rows x 2 columns]"
      ]
     },
     "execution_count": 37,
     "metadata": {},
     "output_type": "execute_result"
    }
   ],
   "source": [
    "average_rating = pd.DataFrame(merged_df.groupby('UserID')['Rating'].count())\n",
    "# average_rating.columns=['UserID','No of ratings']\n",
    "average_rating = average_rating['Rating'].to_dict()\n",
    "temp = pd.DataFrame(list(average_rating.items()))\n",
    "# temp= temp.transpose()\n",
    "temp.columns=['UserID','Rating']\n",
    "# # average_rating\n",
    "temp\n",
    "# list(details.items())"
   ]
  },
  {
   "cell_type": "markdown",
   "id": "3eae8044",
   "metadata": {},
   "source": [
    "<h5>remove users with less than 20 ratiings else we have insufficient info \n",
    "to recommend a movie</h5>"
   ]
  },
  {
   "cell_type": "code",
   "execution_count": 38,
   "id": "f70f02e5",
   "metadata": {},
   "outputs": [
    {
     "data": {
      "text/html": [
       "<div>\n",
       "<style scoped>\n",
       "    .dataframe tbody tr th:only-of-type {\n",
       "        vertical-align: middle;\n",
       "    }\n",
       "\n",
       "    .dataframe tbody tr th {\n",
       "        vertical-align: top;\n",
       "    }\n",
       "\n",
       "    .dataframe thead th {\n",
       "        text-align: right;\n",
       "    }\n",
       "</style>\n",
       "<table border=\"1\" class=\"dataframe\">\n",
       "  <thead>\n",
       "    <tr style=\"text-align: right;\">\n",
       "      <th></th>\n",
       "      <th>UserID</th>\n",
       "      <th>MovieID</th>\n",
       "      <th>Rating</th>\n",
       "      <th>Timestamp</th>\n",
       "      <th>date</th>\n",
       "      <th>hour</th>\n",
       "      <th>Title</th>\n",
       "      <th>Action</th>\n",
       "      <th>Adventure</th>\n",
       "      <th>Animation</th>\n",
       "      <th>...</th>\n",
       "      <th>Romance</th>\n",
       "      <th>Sci-Fi</th>\n",
       "      <th>Thriller</th>\n",
       "      <th>War</th>\n",
       "      <th>Western</th>\n",
       "      <th>Year</th>\n",
       "      <th>Age</th>\n",
       "      <th>Occupation</th>\n",
       "      <th>Zip-code</th>\n",
       "      <th>Encoded_Gender</th>\n",
       "    </tr>\n",
       "  </thead>\n",
       "  <tbody>\n",
       "    <tr>\n",
       "      <th>0</th>\n",
       "      <td>1</td>\n",
       "      <td>1193</td>\n",
       "      <td>5</td>\n",
       "      <td>978300760</td>\n",
       "      <td>2001-01-01 03:42:40</td>\n",
       "      <td>3</td>\n",
       "      <td>One Flew Over the Cuckoo's Nest (1975)</td>\n",
       "      <td>0</td>\n",
       "      <td>0</td>\n",
       "      <td>0</td>\n",
       "      <td>...</td>\n",
       "      <td>0</td>\n",
       "      <td>0</td>\n",
       "      <td>0</td>\n",
       "      <td>0</td>\n",
       "      <td>0</td>\n",
       "      <td>1975</td>\n",
       "      <td>1</td>\n",
       "      <td>10</td>\n",
       "      <td>48067</td>\n",
       "      <td>0</td>\n",
       "    </tr>\n",
       "    <tr>\n",
       "      <th>1</th>\n",
       "      <td>1</td>\n",
       "      <td>661</td>\n",
       "      <td>3</td>\n",
       "      <td>978302109</td>\n",
       "      <td>2001-01-01 04:05:09</td>\n",
       "      <td>4</td>\n",
       "      <td>James and the Giant Peach (1996)</td>\n",
       "      <td>0</td>\n",
       "      <td>0</td>\n",
       "      <td>1</td>\n",
       "      <td>...</td>\n",
       "      <td>0</td>\n",
       "      <td>0</td>\n",
       "      <td>0</td>\n",
       "      <td>0</td>\n",
       "      <td>0</td>\n",
       "      <td>1996</td>\n",
       "      <td>1</td>\n",
       "      <td>10</td>\n",
       "      <td>48067</td>\n",
       "      <td>0</td>\n",
       "    </tr>\n",
       "    <tr>\n",
       "      <th>2</th>\n",
       "      <td>1</td>\n",
       "      <td>914</td>\n",
       "      <td>3</td>\n",
       "      <td>978301968</td>\n",
       "      <td>2001-01-01 04:02:48</td>\n",
       "      <td>4</td>\n",
       "      <td>My Fair Lady (1964)</td>\n",
       "      <td>0</td>\n",
       "      <td>0</td>\n",
       "      <td>0</td>\n",
       "      <td>...</td>\n",
       "      <td>1</td>\n",
       "      <td>0</td>\n",
       "      <td>0</td>\n",
       "      <td>0</td>\n",
       "      <td>0</td>\n",
       "      <td>1964</td>\n",
       "      <td>1</td>\n",
       "      <td>10</td>\n",
       "      <td>48067</td>\n",
       "      <td>0</td>\n",
       "    </tr>\n",
       "    <tr>\n",
       "      <th>3</th>\n",
       "      <td>1</td>\n",
       "      <td>3408</td>\n",
       "      <td>4</td>\n",
       "      <td>978300275</td>\n",
       "      <td>2001-01-01 03:34:35</td>\n",
       "      <td>3</td>\n",
       "      <td>Erin Brockovich (2000)</td>\n",
       "      <td>0</td>\n",
       "      <td>0</td>\n",
       "      <td>0</td>\n",
       "      <td>...</td>\n",
       "      <td>0</td>\n",
       "      <td>0</td>\n",
       "      <td>0</td>\n",
       "      <td>0</td>\n",
       "      <td>0</td>\n",
       "      <td>2000</td>\n",
       "      <td>1</td>\n",
       "      <td>10</td>\n",
       "      <td>48067</td>\n",
       "      <td>0</td>\n",
       "    </tr>\n",
       "    <tr>\n",
       "      <th>4</th>\n",
       "      <td>1</td>\n",
       "      <td>2355</td>\n",
       "      <td>5</td>\n",
       "      <td>978824291</td>\n",
       "      <td>2001-01-07 05:08:11</td>\n",
       "      <td>5</td>\n",
       "      <td>Bug's Life, A (1998)</td>\n",
       "      <td>0</td>\n",
       "      <td>0</td>\n",
       "      <td>1</td>\n",
       "      <td>...</td>\n",
       "      <td>0</td>\n",
       "      <td>0</td>\n",
       "      <td>0</td>\n",
       "      <td>0</td>\n",
       "      <td>0</td>\n",
       "      <td>1998</td>\n",
       "      <td>1</td>\n",
       "      <td>10</td>\n",
       "      <td>48067</td>\n",
       "      <td>0</td>\n",
       "    </tr>\n",
       "    <tr>\n",
       "      <th>...</th>\n",
       "      <td>...</td>\n",
       "      <td>...</td>\n",
       "      <td>...</td>\n",
       "      <td>...</td>\n",
       "      <td>...</td>\n",
       "      <td>...</td>\n",
       "      <td>...</td>\n",
       "      <td>...</td>\n",
       "      <td>...</td>\n",
       "      <td>...</td>\n",
       "      <td>...</td>\n",
       "      <td>...</td>\n",
       "      <td>...</td>\n",
       "      <td>...</td>\n",
       "      <td>...</td>\n",
       "      <td>...</td>\n",
       "      <td>...</td>\n",
       "      <td>...</td>\n",
       "      <td>...</td>\n",
       "      <td>...</td>\n",
       "      <td>...</td>\n",
       "    </tr>\n",
       "    <tr>\n",
       "      <th>1000204</th>\n",
       "      <td>4211</td>\n",
       "      <td>3791</td>\n",
       "      <td>2</td>\n",
       "      <td>965319075</td>\n",
       "      <td>2000-08-03 21:41:15</td>\n",
       "      <td>21</td>\n",
       "      <td>Footloose (1984)</td>\n",
       "      <td>0</td>\n",
       "      <td>0</td>\n",
       "      <td>0</td>\n",
       "      <td>...</td>\n",
       "      <td>0</td>\n",
       "      <td>0</td>\n",
       "      <td>0</td>\n",
       "      <td>0</td>\n",
       "      <td>0</td>\n",
       "      <td>1984</td>\n",
       "      <td>45</td>\n",
       "      <td>5</td>\n",
       "      <td>77662</td>\n",
       "      <td>1</td>\n",
       "    </tr>\n",
       "    <tr>\n",
       "      <th>1000205</th>\n",
       "      <td>4211</td>\n",
       "      <td>3806</td>\n",
       "      <td>3</td>\n",
       "      <td>965319138</td>\n",
       "      <td>2000-08-03 21:42:18</td>\n",
       "      <td>21</td>\n",
       "      <td>MacKenna's Gold (1969)</td>\n",
       "      <td>0</td>\n",
       "      <td>0</td>\n",
       "      <td>0</td>\n",
       "      <td>...</td>\n",
       "      <td>0</td>\n",
       "      <td>0</td>\n",
       "      <td>0</td>\n",
       "      <td>0</td>\n",
       "      <td>1</td>\n",
       "      <td>1969</td>\n",
       "      <td>45</td>\n",
       "      <td>5</td>\n",
       "      <td>77662</td>\n",
       "      <td>1</td>\n",
       "    </tr>\n",
       "    <tr>\n",
       "      <th>1000206</th>\n",
       "      <td>4211</td>\n",
       "      <td>3840</td>\n",
       "      <td>4</td>\n",
       "      <td>965319197</td>\n",
       "      <td>2000-08-03 21:43:17</td>\n",
       "      <td>21</td>\n",
       "      <td>Pumpkinhead (1988)</td>\n",
       "      <td>0</td>\n",
       "      <td>0</td>\n",
       "      <td>0</td>\n",
       "      <td>...</td>\n",
       "      <td>0</td>\n",
       "      <td>0</td>\n",
       "      <td>0</td>\n",
       "      <td>0</td>\n",
       "      <td>0</td>\n",
       "      <td>1988</td>\n",
       "      <td>45</td>\n",
       "      <td>5</td>\n",
       "      <td>77662</td>\n",
       "      <td>1</td>\n",
       "    </tr>\n",
       "    <tr>\n",
       "      <th>1000207</th>\n",
       "      <td>4211</td>\n",
       "      <td>3766</td>\n",
       "      <td>2</td>\n",
       "      <td>965319138</td>\n",
       "      <td>2000-08-03 21:42:18</td>\n",
       "      <td>21</td>\n",
       "      <td>Missing in Action (1984)</td>\n",
       "      <td>1</td>\n",
       "      <td>0</td>\n",
       "      <td>0</td>\n",
       "      <td>...</td>\n",
       "      <td>0</td>\n",
       "      <td>0</td>\n",
       "      <td>0</td>\n",
       "      <td>1</td>\n",
       "      <td>0</td>\n",
       "      <td>1984</td>\n",
       "      <td>45</td>\n",
       "      <td>5</td>\n",
       "      <td>77662</td>\n",
       "      <td>1</td>\n",
       "    </tr>\n",
       "    <tr>\n",
       "      <th>1000208</th>\n",
       "      <td>4211</td>\n",
       "      <td>3834</td>\n",
       "      <td>2</td>\n",
       "      <td>965318885</td>\n",
       "      <td>2000-08-03 21:38:05</td>\n",
       "      <td>21</td>\n",
       "      <td>Bronco Billy (1980)</td>\n",
       "      <td>0</td>\n",
       "      <td>1</td>\n",
       "      <td>0</td>\n",
       "      <td>...</td>\n",
       "      <td>1</td>\n",
       "      <td>0</td>\n",
       "      <td>0</td>\n",
       "      <td>0</td>\n",
       "      <td>0</td>\n",
       "      <td>1980</td>\n",
       "      <td>45</td>\n",
       "      <td>5</td>\n",
       "      <td>77662</td>\n",
       "      <td>1</td>\n",
       "    </tr>\n",
       "  </tbody>\n",
       "</table>\n",
       "<p>1000209 rows × 30 columns</p>\n",
       "</div>"
      ],
      "text/plain": [
       "         UserID  MovieID  Rating  Timestamp                date  hour  \\\n",
       "0             1     1193       5  978300760 2001-01-01 03:42:40     3   \n",
       "1             1      661       3  978302109 2001-01-01 04:05:09     4   \n",
       "2             1      914       3  978301968 2001-01-01 04:02:48     4   \n",
       "3             1     3408       4  978300275 2001-01-01 03:34:35     3   \n",
       "4             1     2355       5  978824291 2001-01-07 05:08:11     5   \n",
       "...         ...      ...     ...        ...                 ...   ...   \n",
       "1000204    4211     3791       2  965319075 2000-08-03 21:41:15    21   \n",
       "1000205    4211     3806       3  965319138 2000-08-03 21:42:18    21   \n",
       "1000206    4211     3840       4  965319197 2000-08-03 21:43:17    21   \n",
       "1000207    4211     3766       2  965319138 2000-08-03 21:42:18    21   \n",
       "1000208    4211     3834       2  965318885 2000-08-03 21:38:05    21   \n",
       "\n",
       "                                          Title  Action  Adventure  Animation  \\\n",
       "0        One Flew Over the Cuckoo's Nest (1975)       0          0          0   \n",
       "1              James and the Giant Peach (1996)       0          0          1   \n",
       "2                           My Fair Lady (1964)       0          0          0   \n",
       "3                        Erin Brockovich (2000)       0          0          0   \n",
       "4                          Bug's Life, A (1998)       0          0          1   \n",
       "...                                         ...     ...        ...        ...   \n",
       "1000204                        Footloose (1984)       0          0          0   \n",
       "1000205                  MacKenna's Gold (1969)       0          0          0   \n",
       "1000206                      Pumpkinhead (1988)       0          0          0   \n",
       "1000207                Missing in Action (1984)       1          0          0   \n",
       "1000208                     Bronco Billy (1980)       0          1          0   \n",
       "\n",
       "         ...  Romance  Sci-Fi  Thriller  War  Western  Year  Age  Occupation  \\\n",
       "0        ...        0       0         0    0        0  1975    1          10   \n",
       "1        ...        0       0         0    0        0  1996    1          10   \n",
       "2        ...        1       0         0    0        0  1964    1          10   \n",
       "3        ...        0       0         0    0        0  2000    1          10   \n",
       "4        ...        0       0         0    0        0  1998    1          10   \n",
       "...      ...      ...     ...       ...  ...      ...   ...  ...         ...   \n",
       "1000204  ...        0       0         0    0        0  1984   45           5   \n",
       "1000205  ...        0       0         0    0        1  1969   45           5   \n",
       "1000206  ...        0       0         0    0        0  1988   45           5   \n",
       "1000207  ...        0       0         0    1        0  1984   45           5   \n",
       "1000208  ...        1       0         0    0        0  1980   45           5   \n",
       "\n",
       "         Zip-code  Encoded_Gender  \n",
       "0           48067               0  \n",
       "1           48067               0  \n",
       "2           48067               0  \n",
       "3           48067               0  \n",
       "4           48067               0  \n",
       "...           ...             ...  \n",
       "1000204     77662               1  \n",
       "1000205     77662               1  \n",
       "1000206     77662               1  \n",
       "1000207     77662               1  \n",
       "1000208     77662               1  \n",
       "\n",
       "[1000209 rows x 30 columns]"
      ]
     },
     "execution_count": 38,
     "metadata": {},
     "output_type": "execute_result"
    }
   ],
   "source": [
    "ratings_final = use_df.groupby('UserID').filter(lambda x: x['Rating'].count() >= 20)\n",
    "ratings_final"
   ]
  },
  {
   "cell_type": "code",
   "execution_count": 39,
   "id": "9816480b",
   "metadata": {},
   "outputs": [],
   "source": [
    "use_df.to_pickle(\"./use_df.pkl\")"
   ]
  },
  {
   "cell_type": "code",
   "execution_count": 40,
   "id": "9713887b",
   "metadata": {},
   "outputs": [
    {
     "data": {
      "text/plain": [
       "Index(['UserID', 'MovieID', 'Rating', 'Timestamp', 'date', 'hour', 'Title',\n",
       "       'Action', 'Adventure', 'Animation', 'Children's', 'Comedy', 'Crime',\n",
       "       'Documentary', 'Drama', 'Fantasy', 'Film-Noir', 'Horror', 'Musical',\n",
       "       'Mystery', 'Romance', 'Sci-Fi', 'Thriller', 'War', 'Western', 'Year',\n",
       "       'Age', 'Occupation', 'Zip-code', 'Encoded_Gender'],\n",
       "      dtype='object')"
      ]
     },
     "execution_count": 40,
     "metadata": {},
     "output_type": "execute_result"
    }
   ],
   "source": [
    "use_df.columns"
   ]
  },
  {
   "cell_type": "markdown",
   "id": "347d9f1f",
   "metadata": {},
   "source": [
    "### Questions and answers "
   ]
  },
  {
   "cell_type": "markdown",
   "id": "6968bf6c",
   "metadata": {},
   "source": [
    "1>Users of which age group have watched and rated the most number of movies?"
   ]
  },
  {
   "cell_type": "code",
   "execution_count": 56,
   "id": "2dace21e",
   "metadata": {},
   "outputs": [
    {
     "data": {
      "text/plain": [
       "395556"
      ]
     },
     "execution_count": 56,
     "metadata": {},
     "output_type": "execute_result"
    }
   ],
   "source": [
    "max_val = pd.DataFrame(merged_df.groupby('Age')['Rating'].count())\n",
    "maxValues = max_val.max()\n",
    "# max_val[max_val['MovieID']==movieID]['Title'].values[0]\n",
    "maxValues[0]"
   ]
  },
  {
   "cell_type": "code",
   "execution_count": 48,
   "id": "60c3f4ab",
   "metadata": {},
   "outputs": [
    {
     "data": {
      "text/html": [
       "<div>\n",
       "<style scoped>\n",
       "    .dataframe tbody tr th:only-of-type {\n",
       "        vertical-align: middle;\n",
       "    }\n",
       "\n",
       "    .dataframe tbody tr th {\n",
       "        vertical-align: top;\n",
       "    }\n",
       "\n",
       "    .dataframe thead th {\n",
       "        text-align: right;\n",
       "    }\n",
       "</style>\n",
       "<table border=\"1\" class=\"dataframe\">\n",
       "  <thead>\n",
       "    <tr style=\"text-align: right;\">\n",
       "      <th></th>\n",
       "      <th>Rating</th>\n",
       "    </tr>\n",
       "    <tr>\n",
       "      <th>Age</th>\n",
       "      <th></th>\n",
       "    </tr>\n",
       "  </thead>\n",
       "  <tbody>\n",
       "    <tr>\n",
       "      <th>1</th>\n",
       "      <td>27211</td>\n",
       "    </tr>\n",
       "    <tr>\n",
       "      <th>18</th>\n",
       "      <td>183536</td>\n",
       "    </tr>\n",
       "    <tr>\n",
       "      <th>25</th>\n",
       "      <td>395556</td>\n",
       "    </tr>\n",
       "    <tr>\n",
       "      <th>35</th>\n",
       "      <td>199003</td>\n",
       "    </tr>\n",
       "    <tr>\n",
       "      <th>45</th>\n",
       "      <td>83633</td>\n",
       "    </tr>\n",
       "    <tr>\n",
       "      <th>50</th>\n",
       "      <td>72490</td>\n",
       "    </tr>\n",
       "    <tr>\n",
       "      <th>56</th>\n",
       "      <td>38780</td>\n",
       "    </tr>\n",
       "  </tbody>\n",
       "</table>\n",
       "</div>"
      ],
      "text/plain": [
       "     Rating\n",
       "Age        \n",
       "1     27211\n",
       "18   183536\n",
       "25   395556\n",
       "35   199003\n",
       "45    83633\n",
       "50    72490\n",
       "56    38780"
      ]
     },
     "execution_count": 48,
     "metadata": {},
     "output_type": "execute_result"
    }
   ],
   "source": [
    "max_val"
   ]
  },
  {
   "cell_type": "code",
   "execution_count": 54,
   "id": "5ab84d83",
   "metadata": {},
   "outputs": [
    {
     "data": {
      "text/plain": [
       "{'Rating': {1: 27211,\n",
       "  18: 183536,\n",
       "  25: 395556,\n",
       "  35: 199003,\n",
       "  45: 83633,\n",
       "  50: 72490,\n",
       "  56: 38780}}"
      ]
     },
     "execution_count": 54,
     "metadata": {},
     "output_type": "execute_result"
    }
   ],
   "source": [
    "dict_new = max_val.to_dict()\n",
    "dict_new"
   ]
  },
  {
   "cell_type": "code",
   "execution_count": 59,
   "id": "ed51ddbe",
   "metadata": {},
   "outputs": [
    {
     "name": "stdout",
     "output_type": "stream",
     "text": [
      "25 : 395556\n"
     ]
    }
   ],
   "source": [
    "age = list(filter(lambda x: dict_new['Rating'][x] == maxValues[0], dict_new['Rating']))[0]\n",
    "print(age ,':',maxValues[0])\n"
   ]
  },
  {
   "cell_type": "markdown",
   "id": "f704041d",
   "metadata": {},
   "source": [
    "2>Users belonging to which profession have watched and rated the most movies?"
   ]
  },
  {
   "cell_type": "code",
   "execution_count": 64,
   "id": "fbd654ee",
   "metadata": {},
   "outputs": [
    {
     "name": "stdout",
     "output_type": "stream",
     "text": [
      "4 : 131032\n"
     ]
    }
   ],
   "source": [
    "max_val = pd.DataFrame(merged_df.groupby('Occupation')['Rating'].count())\n",
    "maxValues = max_val.max()\n",
    "dict_new = max_val.to_dict()\n",
    "dict_new\n",
    "# max_val[max_val['MovieID']==movieID]['Title'].values[0]\n",
    "age = list(filter(lambda x: dict_new['Rating'][x] == maxValues[0], dict_new['Rating']))[0]\n",
    "print(age ,':',maxValues[0])"
   ]
  },
  {
   "cell_type": "markdown",
   "id": "58736fed",
   "metadata": {},
   "source": [
    "3>Most of the users in our dataset who’ve rated the movies are Male. (T/F)\n",
    "<br/>\n",
    "1: male \n",
    "<br/>\n",
    "0: female"
   ]
  },
  {
   "cell_type": "code",
   "execution_count": 65,
   "id": "ffe91466",
   "metadata": {},
   "outputs": [
    {
     "name": "stdout",
     "output_type": "stream",
     "text": [
      "1 : 753769\n"
     ]
    }
   ],
   "source": [
    "max_val = pd.DataFrame(merged_df.groupby('Encoded_Gender')['Rating'].count())\n",
    "maxValues = max_val.max()\n",
    "dict_new = max_val.to_dict()\n",
    "dict_new\n",
    "# max_val[max_val['MovieID']==movieID]['Title'].values[0]\n",
    "age = list(filter(lambda x: dict_new['Rating'][x] == maxValues[0], dict_new['Rating']))[0]\n",
    "print(age ,':',maxValues[0])"
   ]
  },
  {
   "cell_type": "markdown",
   "id": "2f9a32b5",
   "metadata": {},
   "source": [
    "4>Most of the movies present in our dataset were released in which decade?\n",
    "<br/>\n",
    "a. 70s b. 90s c. 50s d.80s"
   ]
  },
  {
   "cell_type": "code",
   "execution_count": 66,
   "id": "b7ff4347",
   "metadata": {},
   "outputs": [
    {
     "name": "stdout",
     "output_type": "stream",
     "text": [
      "1999 : 86833\n"
     ]
    }
   ],
   "source": [
    "max_val = pd.DataFrame(merged_df.groupby('Year')['Rating'].count())\n",
    "maxValues = max_val.max()\n",
    "dict_new = max_val.to_dict()\n",
    "dict_new\n",
    "# max_val[max_val['MovieID']==movieID]['Title'].values[0]\n",
    "age = list(filter(lambda x: dict_new['Rating'][x] == maxValues[0], dict_new['Rating']))[0]\n",
    "print(age ,':',maxValues[0])"
   ]
  },
  {
   "cell_type": "markdown",
   "id": "baac2b6d",
   "metadata": {},
   "source": [
    "5.The movie with maximum no. of ratings is ___."
   ]
  },
  {
   "cell_type": "code",
   "execution_count": 70,
   "id": "6ea5c626",
   "metadata": {},
   "outputs": [
    {
     "name": "stdout",
     "output_type": "stream",
     "text": [
      "American Beauty (1999) : 3428\n"
     ]
    }
   ],
   "source": [
    "max_val = pd.DataFrame(merged_df.groupby('Title')['Rating'].count())\n",
    "maxValues = max_val.max()\n",
    "dict_new = max_val.to_dict()\n",
    "dict_new\n",
    "# max_val[max_val['MovieID']==movieID]['Title'].values[0]\n",
    "age = list(filter(lambda x: dict_new['Rating'][x] == maxValues[0], dict_new['Rating']))[0]\n",
    "print(age ,':',maxValues[0])"
   ]
  },
  {
   "cell_type": "markdown",
   "id": "4a1e91e0",
   "metadata": {},
   "source": [
    "6.On the basis of approach, Collaborative Filtering methods can be classified into ___-based and ___-based."
   ]
  },
  {
   "cell_type": "markdown",
   "id": "4eaf7325",
   "metadata": {},
   "source": [
    "There are two classes of Collaborative Filtering:\n",
    "User-based, which measures the similarity between target users and other users.\n",
    "Item-based, which measures the similarity between the items that target users rate or interact with and other items."
   ]
  },
  {
   "cell_type": "markdown",
   "id": "2bdb3055",
   "metadata": {},
   "source": [
    "7.Pearson Correlation ranges between ___ to ___ whereas, Cosine Similarity belongs to the interval between ___ to ___."
   ]
  },
  {
   "cell_type": "markdown",
   "id": "ec397077",
   "metadata": {},
   "source": [
    "both -1 to 1"
   ]
  },
  {
   "cell_type": "markdown",
   "id": "6a579d4a",
   "metadata": {},
   "source": [
    "10. Give the sparse ‘row’ matrix representation for the following dense matrix -"
   ]
  },
  {
   "cell_type": "markdown",
   "id": "8315da65",
   "metadata": {},
   "source": [
    "[[1 0]\n",
    "[3 7]]"
   ]
  },
  {
   "cell_type": "code",
   "execution_count": 87,
   "id": "03c7265f",
   "metadata": {},
   "outputs": [],
   "source": [
    "x = [[1 ,0], [3 ,7]]\n",
    "temp_dict={}"
   ]
  },
  {
   "cell_type": "code",
   "execution_count": 88,
   "id": "a4ce033d",
   "metadata": {},
   "outputs": [
    {
     "data": {
      "text/plain": [
       "{'1': 0, '3': 7}"
      ]
     },
     "execution_count": 88,
     "metadata": {},
     "output_type": "execute_result"
    }
   ],
   "source": [
    "for item in x:\n",
    "    temp_dict[str(item[0])]=item[1]\n",
    "temp_dict"
   ]
  },
  {
   "cell_type": "code",
   "execution_count": 93,
   "id": "1abe2cf3",
   "metadata": {},
   "outputs": [
    {
     "data": {
      "text/plain": [
       "[1, 3]"
      ]
     },
     "execution_count": 93,
     "metadata": {},
     "output_type": "execute_result"
    }
   ],
   "source": [
    "keysList = list(temp_dict.keys())\n",
    "valList = list(temp_dict.values())\n",
    "keysList = [eval(i) for i in keysList]\n",
    "keysList.sort()\n",
    "valList.sort()\n",
    "keysList"
   ]
  },
  {
   "cell_type": "code",
   "execution_count": 95,
   "id": "1e36e3d8",
   "metadata": {},
   "outputs": [
    {
     "data": {
      "text/plain": [
       "[0, 7]"
      ]
     },
     "execution_count": 95,
     "metadata": {},
     "output_type": "execute_result"
    }
   ],
   "source": [
    "valList"
   ]
  },
  {
   "cell_type": "code",
   "execution_count": 94,
   "id": "f09c4ce8",
   "metadata": {},
   "outputs": [],
   "source": [
    "row = keysList[len(keysList)-1]\n",
    "column = valList[len(valList)-1]"
   ]
  },
  {
   "cell_type": "code",
   "execution_count": 100,
   "id": "b107ad2e",
   "metadata": {},
   "outputs": [
    {
     "name": "stdout",
     "output_type": "stream",
     "text": [
      "\n",
      "0,0,0,0,0,0,0,0,\n",
      "1,0,0,0,0,0,0,0,\n",
      "0,0,0,0,0,0,0,0,\n",
      "0,0,0,0,0,0,0,1,"
     ]
    }
   ],
   "source": [
    "row_counter = 0\n",
    "col_counter = 0\n",
    "for i in range(0, row+1) :\n",
    "    print('')\n",
    "    for j in range (0,column+1) :\n",
    "        if row_counter< len(keysList) and col_counter< len(keysList) and i== keysList[row_counter] and j ==valList[col_counter]:\n",
    "            print(1,end=',')\n",
    "            row_counter+=1\n",
    "            col_counter+=1\n",
    "        else :\n",
    "            print(0,end=',')\n",
    "            \n",
    "            \n",
    "        \n",
    "        "
   ]
  },
  {
   "cell_type": "code",
   "execution_count": null,
   "id": "7c5601c5",
   "metadata": {},
   "outputs": [],
   "source": []
  }
 ],
 "metadata": {
  "kernelspec": {
   "display_name": "Python 3 (ipykernel)",
   "language": "python",
   "name": "python3"
  },
  "language_info": {
   "codemirror_mode": {
    "name": "ipython",
    "version": 3
   },
   "file_extension": ".py",
   "mimetype": "text/x-python",
   "name": "python",
   "nbconvert_exporter": "python",
   "pygments_lexer": "ipython3",
   "version": "3.7.16"
  }
 },
 "nbformat": 4,
 "nbformat_minor": 5
}
